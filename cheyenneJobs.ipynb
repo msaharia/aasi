{
 "cells": [
  {
   "cell_type": "code",
   "execution_count": 1,
   "metadata": {},
   "outputs": [],
   "source": [
    "import os, shutil\n",
    "import subprocess"
   ]
  },
  {
   "cell_type": "code",
   "execution_count": 30,
   "metadata": {},
   "outputs": [],
   "source": [
    "# Directories\n",
    "masterdir = '/glade/p/work/manab/ff/islandpark/'\n",
    "logdname = 'log'\n",
    "jobdname = 'joblists'\n",
    "pbsdname = 'pbsscripts'\n",
    "\n",
    "#FUSE\n",
    "fuseexe = '/glade/p/work/manab/ff/fuse/bin/fuse.exe'\n",
    "configtpl = '/glade/p/work/manab/ff/islandpark/fm_template.txt' #Main Config template\n",
    "fusemode = 'run_def'   #Options\n",
    "simstarttime = '2017'\n",
    "simendtime = '2017'\n",
    "evalstarttime = '2017'\n",
    "evalendtime = '2017'"
   ]
  },
  {
   "cell_type": "code",
   "execution_count": 36,
   "metadata": {},
   "outputs": [
    {
     "data": {
      "text/plain": [
       "<function __main__.configFile>"
      ]
     },
     "execution_count": 36,
     "metadata": {},
     "output_type": "execute_result"
    }
   ],
   "source": [
    "def concatDir(dir, subdir):\n",
    "    '''\n",
    "    Concatenates Master dir and another dname (directory name)\n",
    "    '''\n",
    "    newdir = dir + subdir\n",
    "    return(newdir)\n",
    "\n",
    "def purgeDir(folder):\n",
    "    '''\n",
    "    Purges contents of a directory\n",
    "    '''\n",
    "\n",
    "    for the_file in os.listdir(folder):\n",
    "        file_path = os.path.join(folder, the_file)\n",
    "        try:\n",
    "            if os.path.isfile(file_path):\n",
    "                os.unlink(file_path)\n",
    "        except Exception as e:\n",
    "            print(e)\n",
    "\n",
    "def configFile(file):\n",
    "    '''\n",
    "    Writes config files for each ensemble run\n",
    "    '''\n",
    "    with open(file, \"rt\") as fin:\n",
    "        with open('/glade/p/work/manab/ff/islandpark/fm_template2.txt', \"wt\") as fout:\n",
    "            for line in fin:\n",
    "                print(line)\n",
    "                fout.write(line.replace('SIMSTART', simstarttime))\n",
    "                \n",
    "configFile"
   ]
  },
  {
   "cell_type": "code",
   "execution_count": 19,
   "metadata": {},
   "outputs": [
    {
     "data": {
      "text/plain": [
       "'/glade/p/work/manab/ff/islandpark/pbsscripts'"
      ]
     },
     "execution_count": 19,
     "metadata": {},
     "output_type": "execute_result"
    }
   ],
   "source": [
    "if __name__ == '__main__':\n",
    "    logdir = concatDir(masterdir, logdname)\n",
    "    jobdir = concatDir(masterdir, jobdname)\n",
    "    pbsdir = concatDir(masterdir, pbsdname)\n",
    "    \n",
    "    purgeDir(logdir)      #Empty, if not.\n",
    "    purgeDir(jobdir)\n",
    "    purgeDir(pbsdir)\n",
    "\n",
    "\n",
    "    \n",
    "    \n",
    "pbsdir"
   ]
  },
  {
   "cell_type": "code",
   "execution_count": null,
   "metadata": {},
   "outputs": [],
   "source": []
  },
  {
   "cell_type": "code",
   "execution_count": null,
   "metadata": {},
   "outputs": [],
   "source": []
  }
 ],
 "metadata": {
  "kernelspec": {
   "display_name": "Python (SHARP)",
   "language": "python",
   "name": "sharp"
  },
  "language_info": {
   "codemirror_mode": {
    "name": "ipython",
    "version": 3
   },
   "file_extension": ".py",
   "mimetype": "text/x-python",
   "name": "python",
   "nbconvert_exporter": "python",
   "pygments_lexer": "ipython3",
   "version": "3.6.4"
  }
 },
 "nbformat": 4,
 "nbformat_minor": 2
}
