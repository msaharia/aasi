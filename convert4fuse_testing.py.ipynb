{
 "cells": [
  {
   "cell_type": "code",
   "execution_count": 10,
   "metadata": {},
   "outputs": [],
   "source": [
    "import xarray as xr\n",
    "import netCDF4\n",
    "import numpy as np\n",
    "import pandas as pd\n",
    "import aasi \n",
    "import pyeto as pt"
   ]
  },
  {
   "cell_type": "code",
   "execution_count": 11,
   "metadata": {},
   "outputs": [],
   "source": [
    "#User-supplied\n",
    "\n",
    "mapfile = '/glade/p/work/manab/ff/forcinggeneration/mappingislandpark.nc'\n",
    "forcfile = '/glade/p/work/manab/ff/forcinggeneration/islandparkforc/ens_forc.PNW.0625.1980-1989.051.nc'\n",
    "\n",
    "\n",
    "def calcWeightedAvg(ncdat, varname):\n",
    "    '''\n",
    "    Calculates the weighted average \n",
    "    of any <varname> in the mapping file\n",
    "    '''\n",
    "    wAvg = sum(ncdat[varname]*ncdat['weight'])\n",
    "    return(wAvg)\n",
    "\n",
    "def calcPET(lat, time, tmin, tmax, tmean):\n",
    "    '''\n",
    "    Calculates Potential Evapotranspiration using \n",
    "    Hargreaves equation (Hargreaves and Samani, 1985) \n",
    "    '''\n",
    "    \n",
    "    latrad = pt.deg2rad(lat)                                   #Latitude to radians\n",
    "    dayofyear = pd.Series(time).dt.day.values\n",
    "    etrad = []\n",
    "    pet = []\n",
    "    \n",
    "    #Calculate ET radiation\n",
    "    for x in np.nditer(dayofyear):\n",
    "        soldec = pt.sol_dec(x)                                 #Solar declination\n",
    "        sha = pt.sunset_hour_angle(latrad, soldec)             #Sunset hour aingle\n",
    "        ird = pt.inv_rel_dist_earth_sun(x)                     #Inverse relative distance Earth-Sun\n",
    "        etrad.append(pt.et_rad(latrad, soldec, sha, ird))      #Extraterrestrial radiation\n",
    "    \n",
    "    #Calculate PET using hargreaves\n",
    "    for x in range(0, len(etrad)):\n",
    "        pet.append(pt.hargreaves(tmin[x], tmax[x], tmean[x], etrad[x]))\n",
    "    \n",
    "    pet = np.array(pet)\n",
    "    return(pet)                \n",
    "\n",
    "if __name__ == '__main__':\n",
    "    \n",
    "    mapdat = xr.open_dataset(mapfile)\n",
    "    forcdat = xr.open_dataset(forcfile)\n",
    "    \n",
    "    lat = calcWeightedAvg(mapdat, 'latitude')\n",
    "    lon = calcWeightedAvg(mapdat, 'longitude')\n",
    "    \n",
    "    #Extracts the variables values from forcing file\n",
    "    prcp = forcdat['prcp'].values\n",
    "    tmax = forcdat['tmax'].values\n",
    "    tmin = forcdat['tmin'].values\n",
    "    time = forcdat['time'].values\n",
    "    tmean = (tmax+tmin)/2\n",
    "    \n",
    "    pet = calcPET(lat, time, tmin, tmax, tmean)\n",
    "\n",
    "    prcp = np.reshape(prcp,(prcp.shape[0],1,1))\n",
    "    pet = np.reshape(pet,(pet.shape[0],1,1))\n",
    "    tmean = np.reshape(tmax,(tmean.shape[0],1,1))\n",
    "    \n",
    "    #Create new netCDF file\n",
    "    f = xr.Dataset({'pr': (['time','latitude', 'longitude'],  prcp),\n",
    "                    'pet': (['time','latitude', 'longitude'],  pet),\n",
    "                    'temp': (['time','latitude', 'longitude'],  tmean)\n",
    "                   },\n",
    "                   coords={'time': time,\n",
    "                           'latitude':[lat],\n",
    "                           'longitude':[lon]}\n",
    "                  )      \n",
    "    "
   ]
  },
  {
   "cell_type": "code",
   "execution_count": 12,
   "metadata": {},
   "outputs": [
    {
     "data": {
      "text/plain": [
       "<xarray.Dataset>\n",
       "Dimensions:    (latitude: 1, longitude: 1, time: 3653)\n",
       "Coordinates:\n",
       "  * time       (time) datetime64[ns] 1980-01-01 1980-01-02 1980-01-03 ...\n",
       "  * latitude   (latitude) float64 44.51\n",
       "  * longitude  (longitude) float64 -111.4\n",
       "Data variables:\n",
       "    pr         (time, latitude, longitude) float32 0.974603 1.94124 2.28753 ...\n",
       "    pet        (time, latitude, longitude) float32 0.430324 0.365902 ...\n",
       "    temp       (time, latitude, longitude) float32 0.602832 -1.47469 ..."
      ]
     },
     "execution_count": 12,
     "metadata": {},
     "output_type": "execute_result"
    }
   ],
   "source": [
    "f"
   ]
  },
  {
   "cell_type": "code",
   "execution_count": null,
   "metadata": {},
   "outputs": [],
   "source": []
  }
 ],
 "metadata": {
  "kernelspec": {
   "display_name": "Python 3",
   "language": "python",
   "name": "python3"
  },
  "language_info": {
   "codemirror_mode": {
    "name": "ipython",
    "version": 3
   },
   "file_extension": ".py",
   "mimetype": "text/x-python",
   "name": "python",
   "nbconvert_exporter": "python",
   "pygments_lexer": "ipython3",
   "version": "3.6.3"
  }
 },
 "nbformat": 4,
 "nbformat_minor": 2
}
