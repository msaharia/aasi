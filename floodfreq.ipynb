{
 "cells": [
  {
   "cell_type": "code",
   "execution_count": 23,
   "metadata": {},
   "outputs": [],
   "source": [
    "import xarray as xr\n",
    "import matplotlib.pyplot as plt\n",
    "from jupyterthemes import jtplot\n",
    "\n",
    "jtplot.style(theme='grade3')"
   ]
  },
  {
   "cell_type": "code",
   "execution_count": 24,
   "metadata": {},
   "outputs": [
    {
     "data": {
      "text/plain": [
       "<xarray.Dataset>\n",
       "Dimensions:    (latitude: 1, longitude: 1, time: 17167)\n",
       "Coordinates:\n",
       "  * time       (time) datetime64[ns] 1970-01-01 ...\n",
       "  * latitude   (latitude) float32 44.5118\n",
       "  * longitude  (longitude) float32 -111.435\n",
       "Data variables:\n",
       "    ppt        (time, latitude, longitude) float64 ...\n",
       "    pet        (time, latitude, longitude) float64 ...\n",
       "    obsq       (time, latitude, longitude) float64 ...\n",
       "    watr_1     (time, latitude, longitude) float64 ...\n",
       "    watr_2     (time, latitude, longitude) float64 ...\n",
       "    evap_1     (time, latitude, longitude) float64 ...\n",
       "    evap_2     (time, latitude, longitude) float64 ...\n",
       "    q_instnt   (time, latitude, longitude) float64 ...\n",
       "    q_routed   (time, latitude, longitude) float64 ..."
      ]
     },
     "execution_count": 24,
     "metadata": {},
     "output_type": "execute_result"
    }
   ],
   "source": [
    "# User-Supplied\n",
    "file = '/glade/p/work/manab/ff/islandpark/output/001_001_runs_def.nc'   # Fuse output file\n",
    "out = xr.open_dataset(file)\n",
    "out"
   ]
  },
  {
   "cell_type": "code",
   "execution_count": 32,
   "metadata": {},
   "outputs": [
    {
     "data": {
      "image/png": "[encoded data removed]",
      "text/plain": [
       "<matplotlib.figure.Figure at 0x7fff25167828>"
      ]
     },
     "metadata": {},
     "output_type": "display_data"
    }
   ],
   "source": [
    "out['q_routed'].groupby('time.year').max().plot.hist()\n",
    "plt.show()"
   ]
  },
  {
   "cell_type": "code",
   "execution_count": null,
   "metadata": {},
   "outputs": [],
   "source": []
  },
  {
   "cell_type": "code",
   "execution_count": null,
   "metadata": {},
   "outputs": [],
   "source": []
  }
 ],
 "metadata": {
  "kernelspec": {
   "display_name": "Python (SHARP)",
   "language": "python",
   "name": "sharp"
  },
  "language_info": {
   "codemirror_mode": {
    "name": "ipython",
    "version": 3
   },
   "file_extension": ".py",
   "mimetype": "text/x-python",
   "name": "python",
   "nbconvert_exporter": "python",
   "pygments_lexer": "ipython3",
   "version": "3.6.4"
  }
 },
 "nbformat": 4,
 "nbformat_minor": 2
}
