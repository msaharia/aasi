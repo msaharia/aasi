{
 "cells": [
  {
   "cell_type": "code",
   "execution_count": 1,
   "metadata": {},
   "outputs": [],
   "source": [
    "import xarray as xr\n",
    "import numpy as np\n",
    "import glob, os\n",
    "from shutil import copyfile"
   ]
  },
  {
   "cell_type": "markdown",
   "metadata": {},
   "source": [
    "# User-supplied"
   ]
  },
  {
   "cell_type": "code",
   "execution_count": 8,
   "metadata": {},
   "outputs": [],
   "source": [
    "elevinfile = '/glade/p/work/manab/ff/islandpark/input/us_09066300_elev_bands.nc'\n",
    "elevoutfile = '/glade/p/work/manab/ff/islandpark/input/ip_elev_bands.nc'\n",
    "forcdir = '/glade/p/work/manab/ff/islandpark/inputnew'"
   ]
  },
  {
   "cell_type": "markdown",
   "metadata": {},
   "source": [
    "# Change Latitude, Longitude"
   ]
  },
  {
   "cell_type": "code",
   "execution_count": 16,
   "metadata": {},
   "outputs": [
    {
     "name": "stdout",
     "output_type": "stream",
     "text": [
      "<xarray.Dataset>\n",
      "Dimensions:         (elevation_band: 4, latitude: 1, longitude: 1)\n",
      "Coordinates:\n",
      "  * longitude       (longitude) float64 -111.4\n",
      "  * latitude        (latitude) float64 44.51\n",
      "  * elevation_band  (elevation_band) int32 1 2 3 4\n",
      "Data variables:\n",
      "    area_frac       (elevation_band, latitude, longitude) float64 ...\n",
      "    mean_elev       (elevation_band, latitude, longitude) float64 ...\n",
      "    prec_frac       (elevation_band, latitude, longitude) float64 ...\n"
     ]
    }
   ],
   "source": [
    "elev = xr.open_dataset(elevinfile)\n",
    "elev['latitude'] = elev['latitude']*0 + 44.5118087293063\n",
    "elev['longitude'] = elev['longitude']*0 -111.434567218585\n",
    "elev = elev.sel(elevation_band = slice(None, 4))\n",
    "print(elev)"
   ]
  },
  {
   "cell_type": "markdown",
   "metadata": {},
   "source": [
    "# Area/Precip Fractions and mean_elev"
   ]
  },
  {
   "cell_type": "code",
   "execution_count": 17,
   "metadata": {},
   "outputs": [],
   "source": [
    "lat = elev['latitude'].values\n",
    "long = elev['longitude'].values\n",
    "elevation_band = elev['elevation_band'].values\n",
    "\n",
    "mean_elev = np.array([2250, 2550, 2550, 3350]).reshape((4, 1, 1))\n",
    "\n",
    "#The 1-X is to ensure that sum of fractions is equal to 1.\n",
    "frac = np.array([0.65418, 0.099, 0.233, (1-(0.65418 + 0.099 + 0.233))]).reshape((4, 1, 1))  \n",
    "me = xr.DataArray(mean_elev, coords={'latitude': lat, 'longitude': long, \n",
    "                                'elevation_band': elevation_band},\n",
    "             dims=['elevation_band', 'latitude', 'longitude'])\n",
    "\n",
    "fr = xr.DataArray(frac, coords={'latitude': lat, 'longitude': long, \n",
    "                                'elevation_band': elevation_band},\n",
    "             dims=['elevation_band', 'latitude', 'longitude'])\n",
    "\n",
    "elev['mean_elev'] = me\n",
    "elev['area_frac'] = fr\n",
    "elev['prec_frac'] = fr\n",
    "elev.to_netcdf(elevoutfile)"
   ]
  },
  {
   "cell_type": "markdown",
   "metadata": {},
   "source": [
    "# Create copies of elevation bands for each ensemble"
   ]
  },
  {
   "cell_type": "code",
   "execution_count": 18,
   "metadata": {},
   "outputs": [],
   "source": [
    "forcfiles = glob.glob(forcdir + '/*nc')\n",
    "forcfiles = [x for x in forcfiles if \"elev_bands\" not in x]\n",
    "forcfiles = sorted(forcfiles)\n",
    "\n",
    "for count, value in enumerate(forcfiles):\n",
    "    outfile = os.path.join(forcdir, os.path.basename(value).split('.')[0] + '_elev_bands.nc')\n",
    "    copyfile(elevoutfile, outfile)\n"
   ]
  },
  {
   "cell_type": "code",
   "execution_count": null,
   "metadata": {},
   "outputs": [],
   "source": []
  }
 ],
 "metadata": {
  "kernelspec": {
   "display_name": "Python (SHARP)",
   "language": "python",
   "name": "sharp"
  },
  "language_info": {
   "codemirror_mode": {
    "name": "ipython",
    "version": 3
   },
   "file_extension": ".py",
   "mimetype": "text/x-python",
   "name": "python",
   "nbconvert_exporter": "python",
   "pygments_lexer": "ipython3",
   "version": "3.6.4"
  }
 },
 "nbformat": 4,
 "nbformat_minor": 2
}
