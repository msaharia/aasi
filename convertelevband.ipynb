{
 "cells": [
  {
   "cell_type": "code",
   "execution_count": 1,
   "metadata": {},
   "outputs": [],
   "source": [
    "import xarray as xr"
   ]
  },
  {
   "cell_type": "code",
   "execution_count": 6,
   "metadata": {},
   "outputs": [
    {
     "data": {
      "text/plain": [
       "<xarray.Dataset>\n",
       "Dimensions:         (elevation_band: 14, latitude: 1, longitude: 1)\n",
       "Coordinates:\n",
       "  * longitude       (longitude) float64 39.65\n",
       "  * latitude        (latitude) float64 39.65\n",
       "  * elevation_band  (elevation_band) int32 1 2 3 4 5 6 7 8 9 10 11 12 13 14\n",
       "Data variables:\n",
       "    area_frac       (elevation_band, latitude, longitude) float64 ...\n",
       "    mean_elev       (elevation_band, latitude, longitude) float64 ...\n",
       "    prec_frac       (elevation_band, latitude, longitude) float64 ..."
      ]
     },
     "execution_count": 6,
     "metadata": {},
     "output_type": "execute_result"
    }
   ],
   "source": [
    "elevfile = xr.open_dataset('/glade/p/work/manab/ff/islandpark/input/us_09066300_elev_bands.nc')\n",
    "elevfile"
   ]
  },
  {
   "cell_type": "code",
   "execution_count": 10,
   "metadata": {},
   "outputs": [],
   "source": [
    "elevfile['latitude'] = elevfile['latitude']*0 + 44.5118087293063\n",
    "elevfile['longitude'] = elevfile['longitude']*0 -111.434567218585\n",
    "elevfile.to_netcdf('/glade/p/work/manab/ff/islandpark/input/islandpark_elev_bands.nc')"
   ]
  },
  {
   "cell_type": "code",
   "execution_count": null,
   "metadata": {},
   "outputs": [],
   "source": []
  }
 ],
 "metadata": {
  "kernelspec": {
   "display_name": "Python (SHARP)",
   "language": "python",
   "name": "sharp"
  },
  "language_info": {
   "codemirror_mode": {
    "name": "ipython",
    "version": 3
   },
   "file_extension": ".py",
   "mimetype": "text/x-python",
   "name": "python",
   "nbconvert_exporter": "python",
   "pygments_lexer": "ipython3",
   "version": "3.6.4"
  }
 },
 "nbformat": 4,
 "nbformat_minor": 2
}
